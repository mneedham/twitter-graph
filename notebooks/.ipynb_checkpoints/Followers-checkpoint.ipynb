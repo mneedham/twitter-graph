{
 "cells": [
  {
   "cell_type": "markdown",
   "metadata": {},
   "source": [
    "# Load Followers\n",
    "\n",
    "This notebook loads users from the 'users' topic, finds their twitter followers, and then stores those in the 'followers' topic."
   ]
  },
  {
   "cell_type": "code",
   "execution_count": null,
   "metadata": {},
   "outputs": [],
   "source": [
    "! pip install kafka-python lxml bs4 requests twint nest_asyncio"
   ]
  },
  {
   "cell_type": "code",
   "execution_count": 1,
   "metadata": {},
   "outputs": [],
   "source": [
    "import json\n",
    "import twint\n",
    "from kafka import KafkaConsumer, KafkaProducer\n",
    "from neo4j import GraphDatabase"
   ]
  },
  {
   "cell_type": "code",
   "execution_count": 2,
   "metadata": {},
   "outputs": [],
   "source": [
    "def publish_message(producer_instance, topic_name, key, value):\n",
    "    try:\n",
    "        key_bytes = bytes(key, encoding='utf-8')\n",
    "        value_bytes = bytes(value, encoding='utf-8')\n",
    "        producer_instance.send(topic_name, key=key_bytes, value=value_bytes)\n",
    "        producer_instance.flush()\n",
    "        print('Message published successfully.')\n",
    "    except Exception as ex:\n",
    "        print('Exception in publishing message')\n",
    "        print(str(ex))\n",
    "\n",
    "\n",
    "def connect_kafka_producer(server):\n",
    "    _producer = None\n",
    "    try:\n",
    "        _producer = KafkaProducer(bootstrap_servers=[server], api_version=(0, 10))\n",
    "    except Exception as ex:\n",
    "        print('Exception while connecting Kafka')\n",
    "        print(str(ex))\n",
    "    finally:\n",
    "        return _producer"
   ]
  },
  {
   "cell_type": "code",
   "execution_count": 3,
   "metadata": {},
   "outputs": [],
   "source": [
    "kafka_broker = 'localhost:9092'\n",
    "users_topic = \"users\"\n",
    "followers_topic = \"followers\"\n",
    "\n",
    "users_consumer = KafkaConsumer(\n",
    "    users_topic, auto_offset_reset='earliest',\n",
    "    bootstrap_servers=[kafka_broker], api_version=(0, 10), consumer_timeout_ms=1000, \n",
    "    value_deserializer = json.loads)"
   ]
  },
  {
   "cell_type": "code",
   "execution_count": 4,
   "metadata": {},
   "outputs": [
    {
     "name": "stdout",
     "output_type": "stream",
     "text": [
      "['webmink', 'Synechron', 'flablog', 'didierdaglinckx', 'DailyPythonInfo', 'shobeirf', 'LitteraCarolina', 'continentspirit', 'jepsen_io', 'mvriel']\n"
     ]
    }
   ],
   "source": [
    "users = []\n",
    "for msg in users_consumer:\n",
    "    username = msg.value[\"username\"]\n",
    "    users.append(username)\n",
    "    \n",
    "print(users[:10])  "
   ]
  },
  {
   "cell_type": "code",
   "execution_count": 5,
   "metadata": {},
   "outputs": [],
   "source": [
    "import nest_asyncio\n",
    "nest_asyncio.apply()"
   ]
  },
  {
   "cell_type": "code",
   "execution_count": null,
   "metadata": {},
   "outputs": [
    {
     "name": "stdout",
     "output_type": "stream",
     "text": [
      "webmink\n"
     ]
    }
   ],
   "source": [
    "kafka_producer = connect_kafka_producer(kafka_broker)\n",
    "  \n",
    "for username in [\"flablog\"]:\n",
    "    print(username)\n",
    "    c = twint.Config()\n",
    "    c.Username = username\n",
    "    c.User_full = False\n",
    "    c.Store_object = True\n",
    "    c.Hide_output = True\n",
    "\n",
    "    twint.run.Followers(c)\n",
    "    followers = twint.output.follow_object\n",
    "\n",
    "    if not username in followers:\n",
    "        followers[username] = {\"followers\": []}\n",
    "           \n",
    "    document = {\"username\": username, \"followers\": followers[username][\"followers\"]}\n",
    "            \n",
    "    publish_message(kafka_producer, followers_topic, \"follower\", json.dumps(document))\n",
    "    \n",
    "    twint.output.follow_object = {}"
   ]
  },
  {
   "cell_type": "code",
   "execution_count": null,
   "metadata": {},
   "outputs": [],
   "source": [
    "followers_consumer = KafkaConsumer(\n",
    "    followers_topic, auto_offset_reset='earliest',\n",
    "    bootstrap_servers=[kafka_broker], api_version=(0, 10), consumer_timeout_ms=1000, \n",
    "    value_deserializer = json.loads)\n",
    "driver = GraphDatabase.driver(\"bolt://localhost\", auth=(\"neo4j\", \"zeppelin\"))\n",
    "\n",
    "with driver.session() as session:\n",
    "    for message in followers_consumer:\n",
    "        value = message.value\n",
    "        \n",
    "        for username in value:\n",
    "            params = {\"followers\": value[username][\"followers\"], \"username\": username}\n",
    "\n",
    "            result = session.run(\"\"\"\n",
    "            MATCH (u:User {username: $username})\n",
    "            SET u.followersImported = true\n",
    "            WITH u\n",
    "            UNWIND $followers AS follower\n",
    "            MATCH (f:User {username: follower})\n",
    "            MERGE (f)-[:FOLLOWS]->(u)\n",
    "            \"\"\", params)\n",
    "            print(result.summary().counters)"
   ]
  },
  {
   "cell_type": "code",
   "execution_count": null,
   "metadata": {},
   "outputs": [],
   "source": [
    "kafka_producer = connect_kafka_producer(kafka_broker)\n",
    "publish_message(kafka_producer, followers_topic, \"follower\", json.dumps({\"username\": \"markhneedham\", \"followers\": [\"neo4j\"]}))"
   ]
  }
 ],
 "metadata": {
  "kernelspec": {
   "display_name": "Python 3",
   "language": "python",
   "name": "python3"
  },
  "language_info": {
   "codemirror_mode": {
    "name": "ipython",
    "version": 3
   },
   "file_extension": ".py",
   "mimetype": "text/x-python",
   "name": "python",
   "nbconvert_exporter": "python",
   "pygments_lexer": "ipython3",
   "version": "3.6.7"
  }
 },
 "nbformat": 4,
 "nbformat_minor": 2
}

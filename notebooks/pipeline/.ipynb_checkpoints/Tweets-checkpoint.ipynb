{
 "cells": [
  {
   "cell_type": "code",
   "execution_count": 6,
   "metadata": {},
   "outputs": [
    {
     "name": "stdout",
     "output_type": "stream",
     "text": [
      "Requirement already satisfied: kafka-python in /opt/conda/lib/python3.7/site-packages (1.4.6)\r\n"
     ]
    }
   ],
   "source": [
    "! pip install kafka-python"
   ]
  },
  {
   "cell_type": "code",
   "execution_count": 7,
   "metadata": {},
   "outputs": [],
   "source": [
    "import json\n",
    "from kafka import KafkaProducer"
   ]
  },
  {
   "cell_type": "code",
   "execution_count": 8,
   "metadata": {},
   "outputs": [],
   "source": [
    "def publish_message(producer_instance, topic_name, key, value):\n",
    "    try:\n",
    "        key_bytes = bytes(key, encoding='utf-8')\n",
    "        value_bytes = bytes(value, encoding='utf-8')\n",
    "        producer_instance.send(topic_name, key=key_bytes, value=value_bytes)\n",
    "        producer_instance.flush()\n",
    "        print('Message published successfully.')\n",
    "    except Exception as ex:\n",
    "        print('Exception in publishing message')\n",
    "        print(str(ex))\n",
    "\n",
    "\n",
    "def connect_kafka_producer(server):\n",
    "    _producer = None\n",
    "    try:\n",
    "        _producer = KafkaProducer(bootstrap_servers=[server], api_version=(0, 10))\n",
    "    except Exception as ex:\n",
    "        print('Exception while connecting Kafka')\n",
    "        print(str(ex))\n",
    "    finally:\n",
    "        return _producer"
   ]
  },
  {
   "cell_type": "code",
   "execution_count": 9,
   "metadata": {},
   "outputs": [
    {
     "name": "stdout",
     "output_type": "stream",
     "text": [
      "Message published successfully.\n",
      "Message published successfully.\n",
      "Message published successfully.\n",
      "Message published successfully.\n",
      "Message published successfully.\n",
      "Message published successfully.\n",
      "Message published successfully.\n",
      "Message published successfully.\n",
      "Message published successfully.\n",
      "Message published successfully.\n"
     ]
    }
   ],
   "source": [
    "kafka_broker = 'broker:9093'\n",
    "kafka_producer = connect_kafka_producer(kafka_broker)\n",
    "topic = \"tweets\"\n",
    "\n",
    "count = 0\n",
    "with open(\"../data/tweets.json\", \"r\") as users_file:\n",
    "    line = users_file.readline()\n",
    "    while line:\n",
    "        document = json.loads(line)\n",
    "        publish_message(kafka_producer, topic, document[\"link\"], json.dumps(document))        \n",
    "        \n",
    "        count+=1\n",
    "        if count >= 10:\n",
    "            break\n",
    "        \n",
    "        line = users_file.readline()\n"
   ]
  }
 ],
 "metadata": {
  "kernelspec": {
   "display_name": "Python 3",
   "language": "python",
   "name": "python3"
  },
  "language_info": {
   "codemirror_mode": {
    "name": "ipython",
    "version": 3
   },
   "file_extension": ".py",
   "mimetype": "text/x-python",
   "name": "python",
   "nbconvert_exporter": "python",
   "pygments_lexer": "ipython3",
   "version": "3.7.3"
  }
 },
 "nbformat": 4,
 "nbformat_minor": 2
}

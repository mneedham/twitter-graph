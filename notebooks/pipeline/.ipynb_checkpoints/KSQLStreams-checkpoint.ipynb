{
 "cells": [
  {
   "cell_type": "raw",
   "metadata": {},
   "source": [
    "https://stackoverflow.com/questions/50409361/creating-a-ksql-stream-how-to-extract-value-from-complex-json\n",
    "\n",
    "CREATE STREAM users2_original(\n",
    "  payload STRUCT<\n",
    "    id varchar,\n",
    "    before STRUCT<\n",
    "      labels ARRAY<varchar>,\n",
    "      `properties` MAP<varchar,varchar>\n",
    "    >,\n",
    "    after STRUCT<\n",
    "      labels ARRAY<varchar>,\n",
    "      `properties` MAP<varchar,varchar>\n",
    "    >\n",
    "  >,\n",
    "  meta STRUCT <\n",
    "    operation varchar,\n",
    "    username varchar\n",
    "    >\n",
    ")\n",
    "WITH(KAFKA_TOPIC='users2', value_format='json');\n",
    "\n",
    "CREATE STREAM users2_created AS \n",
    "SELECT * \n",
    "FROM users2_original \n",
    "WHERE meta->operation = 'created';"
   ]
  },
  {
   "cell_type": "raw",
   "metadata": {},
   "source": [
    "CREATE STREAM following_original (\n",
    "  username varchar,\n",
    "  following ARRAY<varchar>\n",
    ")\n",
    "WITH(KAFKA_TOPIC='following', value_format='json');"
   ]
  },
  {
   "cell_type": "raw",
   "metadata": {},
   "source": [
    "CREATE STREAM followers_original (\n",
    "  username varchar,\n",
    "  followers ARRAY<varchar>\n",
    ")\n",
    "WITH(KAFKA_TOPIC='followers', value_format='json');"
   ]
  }
 ],
 "metadata": {
  "kernelspec": {
   "display_name": "Python 3",
   "language": "python",
   "name": "python3"
  },
  "language_info": {
   "codemirror_mode": {
    "name": "ipython",
    "version": 3
   },
   "file_extension": ".py",
   "mimetype": "text/x-python",
   "name": "python",
   "nbconvert_exporter": "python",
   "pygments_lexer": "ipython3",
   "version": "3.7.3"
  }
 },
 "nbformat": 4,
 "nbformat_minor": 2
}
